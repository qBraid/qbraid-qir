{
 "cells": [
  {
   "cell_type": "markdown",
   "metadata": {},
   "source": [
    "# qBraid-QIR: Rigetti QVM simulation example"
   ]
  },
  {
   "cell_type": "markdown",
   "metadata": {},
   "source": [
    "Install necessary dependencies"
   ]
  },
  {
   "cell_type": "code",
   "execution_count": null,
   "metadata": {},
   "outputs": [],
   "source": [
    "%pip install qbraid-qir cirq-core azure-quantum --quiet"
   ]
  },
  {
   "cell_type": "markdown",
   "metadata": {},
   "source": [
    "Develop program with Cirq"
   ]
  },
  {
   "cell_type": "code",
   "execution_count": null,
   "metadata": {},
   "outputs": [],
   "source": [
    "import cirq\n",
    "\n",
    "q0, q1 = cirq.LineQubit.range(2)\n",
    "circuit = cirq.Circuit(cirq.H(q0), cirq.CNOT(q0, q1), cirq.measure(q0, q1))\n",
    "\n",
    "print(circuit)"
   ]
  },
  {
   "cell_type": "markdown",
   "metadata": {},
   "source": [
    "Compile program to QIR"
   ]
  },
  {
   "cell_type": "code",
   "execution_count": null,
   "metadata": {},
   "outputs": [],
   "source": [
    "from cirq_qir import cirq_to_qir\n",
    "\n",
    "module = cirq_to_qir(circuit, name=\"bell\")\n",
    "\n",
    "print(str(module))"
   ]
  },
  {
   "cell_type": "markdown",
   "metadata": {},
   "source": [
    "Submit program to Rigetti  via Azure Quantum Cloud"
   ]
  },
  {
   "cell_type": "markdown",
   "metadata": {},
   "source": [
    "<div class=\"alert alert-block alert-info\">\n",
    "    <b>Note:</b> You will have to open a terminal and run <code>az login</code> to make sure your Azure credentials are stored.\n",
    "</div>"
   ]
  },
  {
   "cell_type": "code",
   "execution_count": null,
   "metadata": {},
   "outputs": [],
   "source": [
    "import azure.quantum\n",
    "from azure.identity import AzureCliCredential\n",
    "\n",
    "workspace = azure.quantum.Workspace(\n",
    "    subscription_id=\"<subscription-id>\",\n",
    "    resource_group=\"AzureQuantum\",\n",
    "    name=\"qir-demo\",\n",
    "    location=\"westus\",\n",
    "    credential=AzureCliCredential(),\n",
    ")"
   ]
  },
  {
   "cell_type": "code",
   "execution_count": null,
   "metadata": {},
   "outputs": [],
   "source": [
    "job = azure.quantum.Job.from_input_data(\n",
    "    workspace=workspace,\n",
    "    name=\"qir-demo\",\n",
    "    provider_id=\"rigetti\",\n",
    "    target=\"rigetti.sim.qvm\",\n",
    "    input_data_format=\"qir.v1\",\n",
    "    output_data_format=\"microsoft.quantum-results.v1\",\n",
    "    input_data=module.bitcode,\n",
    "    input_params={\"shots\": 1, \"entryPoint\": \"main\", \"arguments\": []},\n",
    ")\n",
    "\n",
    "info = job.details.as_dict()"
   ]
  },
  {
   "cell_type": "code",
   "execution_count": null,
   "metadata": {},
   "outputs": [],
   "source": [
    "job.get_results()"
   ]
  }
 ],
 "metadata": {
  "kernelspec": {
   "display_name": "qbraid-qir",
   "language": "python",
   "name": "python3"
  },
  "language_info": {
   "codemirror_mode": {
    "name": "ipython",
    "version": 3
   },
   "file_extension": ".py",
   "mimetype": "text/x-python",
   "name": "python",
   "nbconvert_exporter": "python",
   "pygments_lexer": "ipython3",
   "version": "3.11.5"
  }
 },
 "nbformat": 4,
 "nbformat_minor": 2
}
